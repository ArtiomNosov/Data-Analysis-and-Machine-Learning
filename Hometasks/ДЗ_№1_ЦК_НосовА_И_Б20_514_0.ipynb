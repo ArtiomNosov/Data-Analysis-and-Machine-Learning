{
  "nbformat": 4,
  "nbformat_minor": 0,
  "metadata": {
    "colab": {
      "provenance": [],
      "include_colab_link": true
    },
    "kernelspec": {
      "name": "python3",
      "display_name": "Python 3"
    },
    "language_info": {
      "name": "python"
    }
  },
  "cells": [
    {
      "cell_type": "markdown",
      "metadata": {
        "id": "view-in-github",
        "colab_type": "text"
      },
      "source": [
        "<a href=\"https://colab.research.google.com/github/H20CH3PO2/Data-Analysis-and-Machine-Learning/blob/main/Hometasks/%D0%94%D0%97_%E2%84%961_%D0%A6%D0%9A_%D0%9D%D0%BE%D1%81%D0%BE%D0%B2%D0%90_%D0%98_%D0%9120_514_0.ipynb\" target=\"_parent\"><img src=\"https://colab.research.google.com/assets/colab-badge.svg\" alt=\"Open In Colab\"/></a>"
      ]
    },
    {
      "cell_type": "markdown",
      "source": [
        "# Носов Артём Б20-514"
      ],
      "metadata": {
        "id": "2Kwi4R3OUeli"
      }
    },
    {
      "cell_type": "code",
      "execution_count": null,
      "metadata": {
        "id": "ZXzvR2bqif1W"
      },
      "outputs": [],
      "source": [
        "import requests"
      ]
    },
    {
      "cell_type": "markdown",
      "source": [
        "Используя цикл for\n",
        "Скачать 100 вакансий ( регион-Москва, название вакансии - Аналитик)\n"
      ],
      "metadata": {
        "id": "M33K95ZIWhhI"
      }
    },
    {
      "cell_type": "code",
      "source": [
        "moscow_names = []\n",
        "moscow_salaries = []\n",
        "\n",
        "page_number = 0\n",
        "link = f'https://api.hh.ru/vacancies?text=Аналитик&area=1&search_field=name&per_page=100&page={str(page_number)}'\n",
        "items_list = requests.get(link).json()['items']\n",
        "moscow_names = [x['name'] for x in items_list]\n",
        "moscow_salaries = [x['salary'] for x in items_list]\n",
        "\n",
        "print(moscow_names)\n",
        "print(moscow_salaries)"
      ],
      "metadata": {
        "colab": {
          "base_uri": "https://localhost:8080/"
        },
        "id": "EioSa-INni1b",
        "outputId": "d676fb3e-9403-4857-9d52-28166fb783d2"
      },
      "execution_count": null,
      "outputs": [
        {
          "output_type": "stream",
          "name": "stdout",
          "text": [
            "['Junior Analyst (Младший Аналитик)', 'Аналитик данных (Excel, Power Query,Pivot, VBA),удаленно', 'Junior Product manager/ Аналитик ( аккредитация ИТ, удаленная работа)', 'Junior/middle Бизнес-аналитик / Системный аналитик', 'Аналитик финансового рынка', 'Аналитик SQL', 'Бизнес-аналитик', 'Бизнес-аналитик', 'Бизнес-аналитик (банковское направление)', 'Старший продуктовый аналитик в команду «Поиск заказов»', 'Аналитик данных', 'Финансовый бизнес-аналитик', 'Младший аналитик', 'Аналитик / Бизнес-аналитик (Fintech)', 'Бизнес - аналитик (стажер)', 'Продуктовый аналитик', 'Аналитик / IT-Аналитик Wildberries', 'Системный аналитик (удаленно)', 'Системный аналитик/Бизнес-аналитик (стажер)', 'Аналитик данных', 'Аналитик данных / Data Analyst', 'Аналитик Бит.Финанс', 'Аналитик данных', 'Системный аналитик / System analyst', 'Аналитик данных (ММБ)', 'Менеджер - аналитик маркетплейсы Wildberries / Ozon', 'Бизнес-аналитик', 'Аналитик клиентского опыта (удаленно)', 'Системный аналитик', 'Аналитик', 'Ведущий бизнес-аналитик', 'Аналитик данных', 'BI-Аналитик', 'Проджект-менеджер / Системный-аналитик в ИТ-продукт', 'Аналитик бизнес-процессов', 'Системный аналитик (удаленно)', 'Аналитик', 'Аналитик данных', 'Экономист-аналитик', 'Бизнес-аналитик', 'Data scientist (middle+) / Руководитель отдела аналитики', 'Аналитик (тарифы и расчеты)', 'Трйдер-аналитик', 'Риск-аналитик', 'Data Analyst Middle (Аналитик продаж)', 'Аналитик данных', 'Системный аналитик', 'Аналитик по продажам / Аналитик по планированию и прогнозированию продаж', 'Младший аналитик', 'Бизнес-аналитик', 'Business analyst (junior/middle)', 'Системный аналитик', 'Аналитик работы робота', 'Аналитик (управление развития ключевых партнеров)', 'Аналитик BI/DWH', 'Бизнес-аналитик (Управление эффективностью)', 'Игровой аналитик', 'Аналитик', 'Аналитик данных', 'Бизнес-аналитик', 'Аналитик Отдела поддержки и разработки карточных продуктов', 'Системный аналитик (Банковская область)', 'Аналитик Power BI (стажер)', 'Бизнес-аналитик IT – Dubai, UAE', 'Бизнес-аналитик', 'Эксперт продуктовой аналитики', 'Системный аналитик', 'Младший аналитик', 'Бизнес аналитик (удаленно)', 'Системный аналитик', 'Бизнес - Аналитик', 'Аналитик данных', 'Бизнес-аналитик', 'Аналитик данных', 'Бизнес-аналитик', 'Middle Analyst (Аналитик)', 'Стажер аналитик (отдел планирования)', 'Ведущий системный аналитик', 'Аналитик / Личный помощник руководителя', 'Аналитик (бизнес\\\\системный) направления по работе с телеком-компаниями', 'Системный аналитик', 'Бизнес-аналитик', 'Аналитик', 'Маркетолог-аналитик (на Кипр)', 'Senior Analyst / Старший Аналитик (бизнес анализ, прототипирование)', 'Аналитик данных Департамента B2G', 'Аналитик SQL в коллекшен', 'Координатор-аналитик', 'Системный/Бизнес Аналитик', 'Аналитик департамента продаж', 'Бизнес-аналитик', 'BI Аналитик', 'Ведущий аналитик', 'Аналитик', 'Стажер / консультант-аналитик 1С:ERP', 'Стажер-аналитик (Экономические исследования)', 'Стажер RPA-разработчик (аналитик)', 'Аналитик данных (DWH)', 'Системный аналитик', 'Проджект/Project-аналитик (удаленно)']\n",
            "[{'from': 30000, 'to': 75000, 'currency': 'RUR', 'gross': False}, {'from': 100000, 'to': 120000, 'currency': 'RUR', 'gross': True}, {'from': 80000, 'to': 110000, 'currency': 'RUR', 'gross': False}, {'from': 90000, 'to': 120000, 'currency': 'RUR', 'gross': False}, {'from': 500, 'to': 3000, 'currency': 'USD', 'gross': False}, {'from': 150000, 'to': 200000, 'currency': 'RUR', 'gross': False}, {'from': 200000, 'to': None, 'currency': 'RUR', 'gross': False}, {'from': 180000, 'to': 220000, 'currency': 'RUR', 'gross': False}, {'from': 250000, 'to': 300000, 'currency': 'RUR', 'gross': False}, {'from': 250000, 'to': 350000, 'currency': 'RUR', 'gross': False}, None, {'from': 200000, 'to': 300000, 'currency': 'RUR', 'gross': True}, {'from': 50000, 'to': None, 'currency': 'RUR', 'gross': True}, {'from': 250000, 'to': None, 'currency': 'RUR', 'gross': True}, {'from': 23500, 'to': 50000, 'currency': 'RUR', 'gross': True}, None, {'from': 80000, 'to': 120000, 'currency': 'RUR', 'gross': False}, {'from': 80000, 'to': 120000, 'currency': 'RUR', 'gross': False}, {'from': 60000, 'to': 90000, 'currency': 'RUR', 'gross': False}, {'from': 200000, 'to': 350000, 'currency': 'RUR', 'gross': False}, {'from': None, 'to': 140000, 'currency': 'RUR', 'gross': False}, {'from': 150000, 'to': 300000, 'currency': 'RUR', 'gross': True}, None, {'from': None, 'to': 250000, 'currency': 'RUR', 'gross': False}, None, {'from': 25000, 'to': 35000, 'currency': 'RUR', 'gross': False}, {'from': 200000, 'to': 300000, 'currency': 'RUR', 'gross': False}, {'from': 60000, 'to': 80000, 'currency': 'RUR', 'gross': False}, {'from': 180000, 'to': None, 'currency': 'RUR', 'gross': True}, {'from': 50000, 'to': None, 'currency': 'RUR', 'gross': False}, {'from': 200000, 'to': 250000, 'currency': 'RUR', 'gross': False}, None, None, {'from': 40000, 'to': None, 'currency': 'RUR', 'gross': False}, {'from': 50000, 'to': 80000, 'currency': 'RUR', 'gross': False}, {'from': 180000, 'to': 200000, 'currency': 'RUR', 'gross': False}, None, None, {'from': 80000, 'to': 130000, 'currency': 'RUR', 'gross': False}, {'from': 120000, 'to': None, 'currency': 'RUR', 'gross': False}, {'from': 200000, 'to': 300000, 'currency': 'RUR', 'gross': False}, {'from': 100000, 'to': None, 'currency': 'RUR', 'gross': False}, {'from': 80000, 'to': None, 'currency': 'RUR', 'gross': True}, {'from': 160000, 'to': 200000, 'currency': 'RUR', 'gross': False}, {'from': 120000, 'to': 200000, 'currency': 'RUR', 'gross': False}, {'from': None, 'to': 300000, 'currency': 'RUR', 'gross': False}, {'from': 130000, 'to': 220000, 'currency': 'RUR', 'gross': False}, {'from': None, 'to': 200000, 'currency': 'RUR', 'gross': True}, {'from': 80000, 'to': None, 'currency': 'RUR', 'gross': False}, {'from': 140000, 'to': None, 'currency': 'RUR', 'gross': False}, {'from': 120000, 'to': 200000, 'currency': 'RUR', 'gross': False}, {'from': 160000, 'to': 220000, 'currency': 'RUR', 'gross': False}, {'from': None, 'to': 70000, 'currency': 'RUR', 'gross': False}, None, None, None, None, None, None, {'from': 150000, 'to': None, 'currency': 'RUR', 'gross': False}, {'from': 150000, 'to': 150000, 'currency': 'RUR', 'gross': True}, {'from': 150000, 'to': 300000, 'currency': 'RUR', 'gross': False}, {'from': 25000, 'to': None, 'currency': 'RUR', 'gross': False}, {'from': 2200, 'to': 3000, 'currency': 'USD', 'gross': False}, {'from': 100000, 'to': 100000, 'currency': 'RUR', 'gross': False}, None, {'from': 200000, 'to': 300000, 'currency': 'RUR', 'gross': False}, {'from': None, 'to': 55000, 'currency': 'RUR', 'gross': False}, None, {'from': 70000, 'to': 110000, 'currency': 'RUR', 'gross': False}, {'from': 200000, 'to': None, 'currency': 'RUR', 'gross': False}, None, {'from': None, 'to': 120000, 'currency': 'RUR', 'gross': False}, None, {'from': 150000, 'to': None, 'currency': 'RUR', 'gross': False}, {'from': 80000, 'to': 100000, 'currency': 'RUR', 'gross': False}, {'from': None, 'to': 50000, 'currency': 'RUR', 'gross': False}, {'from': None, 'to': 300000, 'currency': 'RUR', 'gross': False}, {'from': 80000, 'to': None, 'currency': 'RUR', 'gross': False}, {'from': 230000, 'to': 270000, 'currency': 'RUR', 'gross': False}, None, {'from': 160000, 'to': None, 'currency': 'RUR', 'gross': False}, {'from': None, 'to': 90000, 'currency': 'RUR', 'gross': True}, {'from': 4000, 'to': None, 'currency': 'EUR', 'gross': False}, {'from': None, 'to': 300000, 'currency': 'RUR', 'gross': False}, None, None, {'from': None, 'to': 130000, 'currency': 'RUR', 'gross': True}, {'from': 200000, 'to': 300000, 'currency': 'RUR', 'gross': True}, None, None, {'from': 100000, 'to': 130000, 'currency': 'RUR', 'gross': False}, {'from': 90000, 'to': 120000, 'currency': 'RUR', 'gross': False}, None, None, {'from': 30000, 'to': 30000, 'currency': 'RUR', 'gross': True}, {'from': 30000, 'to': 54000, 'currency': 'RUR', 'gross': False}, {'from': 200000, 'to': 300000, 'currency': 'RUR', 'gross': False}, {'from': None, 'to': 200000, 'currency': 'RUR', 'gross': False}, {'from': 60000, 'to': 150000, 'currency': 'RUR', 'gross': True}]\n"
          ]
        }
      ]
    },
    {
      "cell_type": "markdown",
      "source": [
        "Используя цикл while:\n",
        "Скачать 100 вакансий (регион-Санкт-Петербург, название вакансии - Аналитик)\n",
        "  \n"
      ],
      "metadata": {
        "id": "GEUcdx1GW8jP"
      }
    },
    {
      "cell_type": "code",
      "source": [
        "spb_names = []\n",
        "spb_salaries = []\n",
        "page_number = 0\n",
        "link = 'https://api.hh.ru/vacancies?text=Аналитик&area=2&search_field=name&per_page=100&page={}'.format(str(page_number))\n",
        "items_list_spb = requests.get(link).json()['items']\n",
        "j=0\n",
        "size = len(items_list_spb)\n",
        "\n",
        "while j < size:\n",
        "  spb_names += [items_list_spb[j]['name']]\n",
        "  spb_salaries += [items_list_spb[j]['salary']]\n",
        "  j+=1\n",
        "  \n",
        "print(spb_names)\n",
        "print(spb_salaries)"
      ],
      "metadata": {
        "colab": {
          "base_uri": "https://localhost:8080/"
        },
        "id": "h9IpMEQSXEo4",
        "outputId": "9628bf35-1d6c-4a6b-a292-08b661455725"
      },
      "execution_count": null,
      "outputs": [
        {
          "output_type": "stream",
          "name": "stdout",
          "text": [
            "['Аналитик (менеджер клиента)', 'Junior Product manager/ Аналитик ( бронь от мобилизации, удаленная работа )', 'Аналитик-исследователь', 'Маркетолог-аналитик (на Кипр)', 'Аналитик BI', 'Аналитик базы данных (удаленная работа из дома)', 'Аналитик данных', 'Аналитик данных', 'Аналитик отдела продаж', 'Бизнес-аналитик', 'Младший аналитик данных (Junior data analyst)', 'Младший бизнес-аналитик', 'Аналитик данных', 'Финансовый аналитик', 'Системный аналитик', 'Региональный аналитик', 'Аналитик BI', 'Data Analyst', 'Бизнес-аналитик', 'Бизнес-аналитик', 'Экономист-аналитик', 'Аналитик департамента продаж', 'Аналитик-стажер', 'Аналитик', 'Бизнес-аналитик отдела Бизнес-моделирования и упаковки продуктов', 'Аналитик BI', 'Ведущий аналитик по мониторингу и анализу ассортимента', 'Бизнес-аналитик', 'Бизнес-аналитик / Business analyst', 'Аналитик-стажер сопровождения корпоративных информационных систем', 'Финансовый аналитик', 'Аналитик клиентских данных', 'Финансовый аналитик', 'Системный аналитик', 'Аналитик данных', 'Финансовый аналитик криптовалютного рынка', 'Аналитик отдела продаж', 'Дата-аналитик', 'Системный аналитик', 'Аналитик 1С / Ведущий аналитик 1С ( ЕRP)', 'Бизнес-аналитик/системный аналитик', 'Аналитик 1С', 'Финансовый аналитик Power BI', 'Бизнес-аналитик', 'Аналитик спортивных событий', 'Аналитик', 'Data Analyst (mobile)', 'Бизнес-аналитик в IT', 'Ассистент отдела Аналитики', 'Аналитик товародвижения', 'Аналитик', 'Финансовый аналитик', 'Бизнес-аналитик (Ценообразование)', 'Маркетолог-аналитик', 'ТЕХНОЛОГ - АНАЛИТИК (Junior)', 'Маркетолог-аналитик', 'Аналитик/Исследователь больших данных', 'Системный аналитик / Бизнес-аналитик', 'Менеджер по аналитике продаж', 'Аналитик бизнес-процессов', 'Маркетолог-аналитик', 'Аналитик коммерческого отдела', 'Аналитик (начинающий специалист)', 'Бизнес-аналитик', 'Стажер-аналитик сбоев информационных систем Банка', 'Младший аналитик', 'Системный аналитик', 'Интернет маркетолог аналитик', 'Системный аналитик (IT-компания)', 'Аналитик клиентского опыта', 'Консультант-аналитик 1С', 'Системный аналитик', 'Бизнес-аналитик / Стажер в отдел внедрения (Bitrix24, ИТ-компания)', 'Маркетолог-аналитик', 'Аналитик', 'Аналитик по ценообразованию', 'Аналитик 1C', 'Системный аналитик', 'Финансовый аналитик', 'Бизнес-аналитик', 'Аналитик данных', 'Бизнес-аналитик продуктовый', 'Ведущий аналитик', 'Технолог-аналитик / Младший аналитик', 'Аналитик', 'Бизнес-аналитик', 'Аналитик', 'Стажер-аналитик', 'Аналитик данных', 'Менеджер по маркетингу / аналитик', 'Бизнес-аналитик', 'Аналитик отдела закупок (специалист)', 'ИТ аналитик (befree)', 'Аналитик данных', 'Маркетолог-аналитик', 'Системный аналитик 1С', 'Data Analyst (Marketing)', 'Аналитик МИС', 'Аналитик данных', 'Аналитик отдела контроллинга цепочек поставок']\n",
            "[{'from': 140000, 'to': 190000, 'currency': 'RUR', 'gross': False}, {'from': 80000, 'to': 110000, 'currency': 'RUR', 'gross': False}, {'from': 100000, 'to': 140000, 'currency': 'RUR', 'gross': False}, {'from': 4000, 'to': None, 'currency': 'EUR', 'gross': False}, {'from': 100000, 'to': None, 'currency': 'RUR', 'gross': False}, {'from': 40000, 'to': 45000, 'currency': 'RUR', 'gross': True}, {'from': 40000, 'to': None, 'currency': 'RUR', 'gross': False}, {'from': 70000, 'to': None, 'currency': 'RUR', 'gross': False}, {'from': 90000, 'to': 90000, 'currency': 'RUR', 'gross': True}, {'from': None, 'to': 200000, 'currency': 'RUR', 'gross': False}, {'from': 100000, 'to': None, 'currency': 'RUR', 'gross': False}, {'from': 45000, 'to': None, 'currency': 'RUR', 'gross': False}, None, {'from': 95000, 'to': 95000, 'currency': 'RUR', 'gross': True}, {'from': 160000, 'to': 220000, 'currency': 'RUR', 'gross': False}, None, None, {'from': 20000, 'to': 50000, 'currency': 'RUR', 'gross': False}, None, {'from': 80000, 'to': None, 'currency': 'RUR', 'gross': False}, {'from': 65000, 'to': 85000, 'currency': 'RUR', 'gross': False}, None, {'from': 40000, 'to': None, 'currency': 'RUR', 'gross': True}, None, {'from': 150000, 'to': 150000, 'currency': 'RUR', 'gross': False}, {'from': 100000, 'to': None, 'currency': 'RUR', 'gross': False}, {'from': 85000, 'to': 100000, 'currency': 'RUR', 'gross': True}, None, None, {'from': 40000, 'to': None, 'currency': 'RUR', 'gross': True}, None, None, {'from': 100000, 'to': 120000, 'currency': 'RUR', 'gross': False}, None, None, None, {'from': 65000, 'to': 70000, 'currency': 'RUR', 'gross': False}, None, None, {'from': 100000, 'to': 200000, 'currency': 'RUR', 'gross': False}, {'from': None, 'to': 120000, 'currency': 'RUR', 'gross': True}, {'from': 150000, 'to': 180000, 'currency': 'RUR', 'gross': True}, {'from': 100000, 'to': None, 'currency': 'RUR', 'gross': True}, {'from': 70000, 'to': 100000, 'currency': 'RUR', 'gross': False}, None, None, None, None, {'from': 30000, 'to': None, 'currency': 'RUR', 'gross': False}, {'from': 115000, 'to': 115000, 'currency': 'RUR', 'gross': True}, None, None, None, {'from': 90000, 'to': None, 'currency': 'RUR', 'gross': False}, {'from': 60000, 'to': None, 'currency': 'RUR', 'gross': False}, {'from': None, 'to': 120000, 'currency': 'RUR', 'gross': False}, None, None, {'from': 150000, 'to': None, 'currency': 'RUR', 'gross': False}, {'from': None, 'to': 100000, 'currency': 'RUR', 'gross': False}, {'from': 65000, 'to': 90000, 'currency': 'RUR', 'gross': True}, None, {'from': 40000, 'to': 45000, 'currency': 'RUR', 'gross': False}, None, None, {'from': 45000, 'to': None, 'currency': 'RUR', 'gross': False}, {'from': 70000, 'to': 90000, 'currency': 'RUR', 'gross': False}, {'from': 60000, 'to': 220000, 'currency': 'RUR', 'gross': True}, None, None, {'from': 150000, 'to': 170000, 'currency': 'RUR', 'gross': False}, {'from': 130000, 'to': 220000, 'currency': 'RUR', 'gross': False}, None, {'from': 70000, 'to': None, 'currency': 'RUR', 'gross': True}, None, None, {'from': 150000, 'to': None, 'currency': 'RUR', 'gross': False}, None, {'from': 90000, 'to': None, 'currency': 'RUR', 'gross': False}, None, None, {'from': 150000, 'to': None, 'currency': 'RUR', 'gross': False}, None, {'from': 60000, 'to': None, 'currency': 'RUR', 'gross': False}, None, {'from': None, 'to': 80000, 'currency': 'RUR', 'gross': True}, None, None, None, {'from': 85000, 'to': None, 'currency': 'RUR', 'gross': False}, None, None, None, None, {'from': 60000, 'to': 80000, 'currency': 'RUR', 'gross': False}, {'from': None, 'to': 200000, 'currency': 'RUR', 'gross': False}, None, {'from': 50000, 'to': None, 'currency': 'RUR', 'gross': True}, None, None]\n"
          ]
        }
      ]
    },
    {
      "cell_type": "markdown",
      "source": [
        "Используя любой из видов цикла - создать список названий вакансий, больших по зп в Санкт-Петербурге чем, в Москве. Для оценки зарплаты брать нижнюю границу (from), очищенную от налога (-13%), и пересчитанную с учетом курса валют в рубли. "
      ],
      "metadata": {
        "id": "98Fii62f0UoA"
      }
    },
    {
      "cell_type": "code",
      "source": [
        "usd_c = (requests.get('https://www.cbr-xml-daily.ru/daily_json.js').json())['Valute']['USD']['Value']\n",
        "eur_c = (requests.get('https://www.cbr-xml-daily.ru/daily_json.js').json())['Valute']['EUR']['Value']\n",
        "kzt_c = (requests.get('https://www.cbr-xml-daily.ru/daily_json.js').json())['Valute']['KZT']['Value']\n",
        "\n",
        "def clean(x):\n",
        "  k = 1\n",
        "  if x is not None:\n",
        "    if x['from'] is None:\n",
        "      return 0\n",
        "    if not x['gross']:\n",
        "      k = 0.87\n",
        "    if x['currency'] == 'KZT':\n",
        "      return x['from']*k*kzt_c\n",
        "    if x['currency'] == 'USD':\n",
        "      return x['from']*k*usd_c\n",
        "    if x['currency'] == 'EUR':\n",
        "      return x['from']*k*eur_c\n",
        "    return x['from']*k\n",
        "  else:\n",
        "    return 0"
      ],
      "metadata": {
        "id": "El20NneM0XiP"
      },
      "execution_count": null,
      "outputs": []
    },
    {
      "cell_type": "code",
      "source": [
        "result_job = []\n",
        "result_money = []\n",
        "N = 100\n",
        "for i in range(N):\n",
        "  flag = 0\n",
        "  for j in range(N):\n",
        "    if spb_names[i] == moscow_names[j]:\n",
        "      flag=1\n",
        "      if clean(spb_salaries[i]) > clean(moscow_salaries[j]):\n",
        "        result_job += [spb_names[i]]\n",
        "        result_money += [clean(spb_salaries[i])]"
      ],
      "metadata": {
        "id": "KWt1hpwrSUk4"
      },
      "execution_count": null,
      "outputs": []
    },
    {
      "cell_type": "code",
      "source": [
        "def ind_max(z):\n",
        "  s = 0\n",
        "  b = 0\n",
        "  for x in range(len(z)):\n",
        "      if z[x] > s:\n",
        "          s = z[x]\n",
        "          b = x\n",
        "  return b"
      ],
      "metadata": {
        "id": "RJ4KOgCYTmMo"
      },
      "execution_count": null,
      "outputs": []
    },
    {
      "cell_type": "code",
      "source": [
        "print(f'Число вокансий, где ЗП в СПб больше, чем в МСК: {len(set(result_money))}')\n",
        "print(f'Самая высокооплачиваемая вокансия и зарплата: {result_job[ind_max(result_money)]}: {max(result_money)}')"
      ],
      "metadata": {
        "colab": {
          "base_uri": "https://localhost:8080/"
        },
        "id": "t9VEXhq-_81o",
        "outputId": "f7d937ce-398d-41fd-afe1-8f15031ca158"
      },
      "execution_count": null,
      "outputs": [
        {
          "output_type": "stream",
          "name": "stdout",
          "text": [
            "Число вокансий, где ЗП в СПб больше, чем в МСК: 6\n",
            "Самая высокооплачиваемая вокансия и зарплата: Системный аналитик: 139200.0\n"
          ]
        }
      ]
    }
  ]
}